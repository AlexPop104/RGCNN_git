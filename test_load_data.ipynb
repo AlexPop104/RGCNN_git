{
 "cells": [
  {
   "cell_type": "code",
   "execution_count": 5,
   "id": "f3c8230a",
   "metadata": {},
   "outputs": [
    {
     "name": "stdout",
     "output_type": "stream",
     "text": [
      "/home/alex/Alex_documents/RGCNN/..\n"
     ]
    }
   ],
   "source": [
    "import os\n",
    "import sys\n",
    "import numpy as np\n",
    "BASE_DIR = os.path.abspath('')\n",
    "sys.path.append(BASE_DIR)\n",
    "# ROOT_DIR = BASE_DIR\n",
    "ROOT_DIR = os.path.join(BASE_DIR, os.pardir)\n",
    "print(ROOT_DIR)"
   ]
  },
  {
   "cell_type": "code",
   "execution_count": 4,
   "id": "444ffd96",
   "metadata": {},
   "outputs": [
    {
     "ename": "FileNotFoundError",
     "evalue": "[Errno 2] No such file or directory: '/home/alex/Alex_documents/RGCNN/../data/modelnet40_normal_resampled/modelnet40_train.txt'",
     "output_type": "error",
     "traceback": [
      "\u001b[0;31m---------------------------------------------------------------------------\u001b[0m",
      "\u001b[0;31mFileNotFoundError\u001b[0m                         Traceback (most recent call last)",
      "\u001b[0;32m/tmp/ipykernel_2033/1064460317.py\u001b[0m in \u001b[0;36m<module>\u001b[0;34m\u001b[0m\n\u001b[1;32m      5\u001b[0m \u001b[0;34m\u001b[0m\u001b[0m\n\u001b[1;32m      6\u001b[0m \u001b[0mshape_ids\u001b[0m \u001b[0;34m=\u001b[0m \u001b[0;34m{\u001b[0m\u001b[0;34m}\u001b[0m\u001b[0;34m\u001b[0m\u001b[0;34m\u001b[0m\u001b[0m\n\u001b[0;32m----> 7\u001b[0;31m \u001b[0mshape_ids\u001b[0m\u001b[0;34m[\u001b[0m\u001b[0;34m'train'\u001b[0m\u001b[0;34m]\u001b[0m \u001b[0;34m=\u001b[0m \u001b[0;34m[\u001b[0m\u001b[0mline\u001b[0m\u001b[0;34m.\u001b[0m\u001b[0mrstrip\u001b[0m\u001b[0;34m(\u001b[0m\u001b[0;34m)\u001b[0m \u001b[0;32mfor\u001b[0m \u001b[0mline\u001b[0m \u001b[0;32min\u001b[0m \u001b[0mopen\u001b[0m\u001b[0;34m(\u001b[0m\u001b[0mtrain_file\u001b[0m\u001b[0;34m)\u001b[0m\u001b[0;34m]\u001b[0m \u001b[0;31m# this gets the filenames of the objects\u001b[0m\u001b[0;34m\u001b[0m\u001b[0;34m\u001b[0m\u001b[0m\n\u001b[0m\u001b[1;32m      8\u001b[0m \u001b[0;31m# print(shape_ids['train'])\u001b[0m\u001b[0;34m\u001b[0m\u001b[0;34m\u001b[0m\u001b[0m\n\u001b[1;32m      9\u001b[0m \u001b[0msplit\u001b[0m \u001b[0;34m=\u001b[0m \u001b[0;34m'train'\u001b[0m\u001b[0;34m\u001b[0m\u001b[0;34m\u001b[0m\u001b[0m\n",
      "\u001b[0;31mFileNotFoundError\u001b[0m: [Errno 2] No such file or directory: '/home/alex/Alex_documents/RGCNN/../data/modelnet40_normal_resampled/modelnet40_train.txt'"
     ]
    }
   ],
   "source": [
    "DATA_DIR = os.path.join(ROOT_DIR, 'data/modelnet40_normal_resampled')\n",
    "\n",
    "train_file_name = 'modelnet40_train.txt'\n",
    "train_file = os.path.join(DATA_DIR, train_file_name)\n",
    "\n",
    "shape_ids = {}\n",
    "shape_ids['train'] = [line.rstrip() for line in open(train_file)] # this gets the filenames of the objects\n",
    "# print(shape_ids['train'])\n",
    "split = 'train'\n",
    "shape_names = ['_'.join(x.split('_')[0:-1]) for x in shape_ids[split]] # this gets the objects names\n",
    "# print(shape_names)\n",
    "\n",
    "# get all the classes\n",
    "cat_file = os.path.join(DATA_DIR, 'modelnet40_shape_names.txt')\n",
    "cat = [line.rstrip() for line in open(cat_file)]\n",
    "# print(cat[0:10])\n",
    "\n",
    "# Put the clasees into a 'dict'?\n",
    "classes = dict(zip(cat, range(len(cat))))  \n",
    "# print(classes)\n",
    "\n",
    "# get the label and path to the obj. Ex.: [('airplane', 'home/.../airplane/airplane_0001.txt')]\n",
    "datapath = [(shape_names[i], os.path.join(DATA_DIR, shape_names[i], shape_ids[split][i])+'.txt') for i in range(len(shape_ids[split]))]\n",
    "# print(datapath[0][0])\n",
    "point_set = []\n",
    "for fn in datapath: \n",
    "    # fn = datapath[0]\n",
    "    cls = classes[datapath[0][0]]\n",
    "    cls = np.array([cls]).astype(np.int32)\n",
    "    point_set.append(np.loadtxt(fn[1], delimiter=',').astype(np.float32))\n",
    "\n",
    "print(point_set.shape)\n"
   ]
  },
  {
   "cell_type": "code",
   "execution_count": null,
   "id": "8b69dcd0",
   "metadata": {},
   "outputs": [],
   "source": []
  }
 ],
 "metadata": {
  "kernelspec": {
   "display_name": "Python 3 (ipykernel)",
   "language": "python",
   "name": "python3"
  },
  "language_info": {
   "codemirror_mode": {
    "name": "ipython",
    "version": 3
   },
   "file_extension": ".py",
   "mimetype": "text/x-python",
   "name": "python",
   "nbconvert_exporter": "python",
   "pygments_lexer": "ipython3",
   "version": "3.9.7"
  }
 },
 "nbformat": 4,
 "nbformat_minor": 5
}
